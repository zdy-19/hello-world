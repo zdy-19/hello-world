{
  "nbformat": 4,
  "nbformat_minor": 0,
  "metadata": {
    "colab": {
      "name": "x.ipynb",
      "provenance": [],
      "collapsed_sections": [],
      "include_colab_link": true
    },
    "kernelspec": {
      "name": "python3",
      "display_name": "Python 3"
    }
  },
  "cells": [
    {
      "cell_type": "markdown",
      "metadata": {
        "id": "view-in-github",
        "colab_type": "text"
      },
      "source": [
        "<a href=\"https://colab.research.google.com/github/zdy-19/hello-world/blob/master/x.ipynb\" target=\"_parent\"><img src=\"https://colab.research.google.com/assets/colab-badge.svg\" alt=\"Open In Colab\"/></a>"
      ]
    },
    {
      "cell_type": "markdown",
      "metadata": {
        "id": "vZfe_BrN2782",
        "colab_type": "text"
      },
      "source": [
        "## Midterm\n",
        "\n",
        "![](https://github.com/rpi-techfundamentals/hm-01-starter/blob/master/notsaved.png?raw=1)\n",
        "\n",
        "**WARNING!!!  If you see this icon on the top of your COLAB sesssion, your work is not saved automatically.**\n",
        "\n",
        "**Do not manually upload any files.  Use the `wget` command to retreive files.**\n",
        "\n",
        "**Save your working file in Google drive so that all changes will be saved as you work. MAKE SURE that your final version is saved to GitHub.** \n",
        "\n",
        "Before you turn this in, make sure everything runs as expected. First, restart the kernel (in the menu, select Kernel → Restart) and then run all cells (in the menubar, select Cell → Run All). They should run completely without intervention...**i.e., DO NOT not manually upload any files.  Use the `wget` command to retreive files as necesssary.**\n",
        "\n",
        "\n",
        "### This is a 45 point assignment.\n",
        "\n",
        "**You may find it useful to go through the notebooks from the course materials when doing these exercises.**\n",
        "\n",
        "**If you receive assistance from anyone (other than instructor clarification) it will be considered an ethical violation and referred to associate dean.  By listing your name below your are confirming that you have received no unauthorized help in this exam and have completed it yourself.**"
      ]
    },
    {
      "cell_type": "code",
      "metadata": {
        "id": "7Klp5Qe4_iAk",
        "colab_type": "code",
        "colab": {}
      },
      "source": [
        "course=\"mgmt6560\"   #course number\n",
        "section=\"2\"          #For example 1 or 2\n",
        "first_name=\"Dongyuan\"   #For example, \"jason\"\n",
        "last_name=\"Zheng\"    #For example, \"kuruzovich\"\n",
        "student_id=\"661971101\"       #for example \"kuruzj\"\n",
        "student_email=\"zhengd2@rpi.edu\"    #for example \"kuruzj@rpi.edu\""
      ],
      "execution_count": 0,
      "outputs": []
    },
    {
      "cell_type": "code",
      "metadata": {
        "id": "wAwXOu5EwrwL",
        "colab_type": "code",
        "colab": {
          "base_uri": "https://localhost:8080/",
          "height": 377
        },
        "outputId": "e5d0f33e-b29e-4ea7-d600-fb4afbfef741"
      },
      "source": [
        "#get the data\n",
        "!wget https://www.dropbox.com/s/02brm5nrxe63ea9/midterm2.csv\n"
      ],
      "execution_count": 3,
      "outputs": [
        {
          "output_type": "stream",
          "text": [
            "--2019-10-17 20:47:38--  https://www.dropbox.com/s/02brm5nrxe63ea9/midterm2.csv\n",
            "Resolving www.dropbox.com (www.dropbox.com)... 162.125.65.1, 2620:100:6021:1::a27d:4101\n",
            "Connecting to www.dropbox.com (www.dropbox.com)|162.125.65.1|:443... connected.\n",
            "HTTP request sent, awaiting response... 301 Moved Permanently\n",
            "Location: /s/raw/02brm5nrxe63ea9/midterm2.csv [following]\n",
            "--2019-10-17 20:47:39--  https://www.dropbox.com/s/raw/02brm5nrxe63ea9/midterm2.csv\n",
            "Reusing existing connection to www.dropbox.com:443.\n",
            "HTTP request sent, awaiting response... 302 Found\n",
            "Location: https://uc66708c2d6a305f4c588f667050.dl.dropboxusercontent.com/cd/0/inline/Aqo-qyUOnqb5pvaXEZM6NXAY54VX9yLiSqbxF35-Bw-Nk-jj1zvHWGdrvbvRzHlBAA9PLIaUtQ78Z31RpMMxi9eU8MkbycBYqmzLeshoJyaNPR3qRfTQ4rx2asWs-oI8kU8/file# [following]\n",
            "--2019-10-17 20:47:39--  https://uc66708c2d6a305f4c588f667050.dl.dropboxusercontent.com/cd/0/inline/Aqo-qyUOnqb5pvaXEZM6NXAY54VX9yLiSqbxF35-Bw-Nk-jj1zvHWGdrvbvRzHlBAA9PLIaUtQ78Z31RpMMxi9eU8MkbycBYqmzLeshoJyaNPR3qRfTQ4rx2asWs-oI8kU8/file\n",
            "Resolving uc66708c2d6a305f4c588f667050.dl.dropboxusercontent.com (uc66708c2d6a305f4c588f667050.dl.dropboxusercontent.com)... 162.125.65.6, 2620:100:6021:6::a27d:4106\n",
            "Connecting to uc66708c2d6a305f4c588f667050.dl.dropboxusercontent.com (uc66708c2d6a305f4c588f667050.dl.dropboxusercontent.com)|162.125.65.6|:443... connected.\n",
            "HTTP request sent, awaiting response... 200 OK\n",
            "Length: 353920 (346K) [text/plain]\n",
            "Saving to: ‘midterm2.csv’\n",
            "\n",
            "midterm2.csv        100%[===================>] 345.62K  --.-KB/s    in 0.04s   \n",
            "\n",
            "2019-10-17 20:47:39 (8.92 MB/s) - ‘midterm2.csv’ saved [353920/353920]\n",
            "\n"
          ],
          "name": "stdout"
        }
      ]
    },
    {
      "cell_type": "code",
      "metadata": {
        "id": "DlqW9xLjyRhV",
        "colab_type": "code",
        "colab": {
          "base_uri": "https://localhost:8080/",
          "height": 204
        },
        "outputId": "f830b526-cddf-4e58-ea38-ba53f486dfe8"
      },
      "source": [
        "import pandas as pd\n",
        "data  = pd.read_csv(\"midterm2.csv\")\n",
        "data.head()"
      ],
      "execution_count": 4,
      "outputs": [
        {
          "output_type": "execute_result",
          "data": {
            "text/html": [
              "<div>\n",
              "<style scoped>\n",
              "    .dataframe tbody tr th:only-of-type {\n",
              "        vertical-align: middle;\n",
              "    }\n",
              "\n",
              "    .dataframe tbody tr th {\n",
              "        vertical-align: top;\n",
              "    }\n",
              "\n",
              "    .dataframe thead th {\n",
              "        text-align: right;\n",
              "    }\n",
              "</style>\n",
              "<table border=\"1\" class=\"dataframe\">\n",
              "  <thead>\n",
              "    <tr style=\"text-align: right;\">\n",
              "      <th></th>\n",
              "      <th>v1</th>\n",
              "      <th>v2</th>\n",
              "      <th>v3</th>\n",
              "      <th>v4</th>\n",
              "      <th>v5</th>\n",
              "      <th>v6</th>\n",
              "      <th>v7</th>\n",
              "      <th>v8</th>\n",
              "      <th>v9</th>\n",
              "      <th>v10</th>\n",
              "      <th>group</th>\n",
              "      <th>y</th>\n",
              "    </tr>\n",
              "  </thead>\n",
              "  <tbody>\n",
              "    <tr>\n",
              "      <th>0</th>\n",
              "      <td>1</td>\n",
              "      <td>1</td>\n",
              "      <td>1</td>\n",
              "      <td>1</td>\n",
              "      <td>1</td>\n",
              "      <td>1</td>\n",
              "      <td>1</td>\n",
              "      <td>1</td>\n",
              "      <td>1</td>\n",
              "      <td>0</td>\n",
              "      <td>0</td>\n",
              "      <td>453.521369</td>\n",
              "    </tr>\n",
              "    <tr>\n",
              "      <th>1</th>\n",
              "      <td>1</td>\n",
              "      <td>1</td>\n",
              "      <td>1</td>\n",
              "      <td>1</td>\n",
              "      <td>1</td>\n",
              "      <td>1</td>\n",
              "      <td>1</td>\n",
              "      <td>1</td>\n",
              "      <td>1</td>\n",
              "      <td>1</td>\n",
              "      <td>0</td>\n",
              "      <td>151.919191</td>\n",
              "    </tr>\n",
              "    <tr>\n",
              "      <th>2</th>\n",
              "      <td>1</td>\n",
              "      <td>1</td>\n",
              "      <td>0</td>\n",
              "      <td>1</td>\n",
              "      <td>0</td>\n",
              "      <td>1</td>\n",
              "      <td>1</td>\n",
              "      <td>0</td>\n",
              "      <td>1</td>\n",
              "      <td>0</td>\n",
              "      <td>0</td>\n",
              "      <td>-141.666991</td>\n",
              "    </tr>\n",
              "    <tr>\n",
              "      <th>3</th>\n",
              "      <td>1</td>\n",
              "      <td>0</td>\n",
              "      <td>1</td>\n",
              "      <td>1</td>\n",
              "      <td>1</td>\n",
              "      <td>1</td>\n",
              "      <td>0</td>\n",
              "      <td>0</td>\n",
              "      <td>0</td>\n",
              "      <td>1</td>\n",
              "      <td>0</td>\n",
              "      <td>-227.245474</td>\n",
              "    </tr>\n",
              "    <tr>\n",
              "      <th>4</th>\n",
              "      <td>1</td>\n",
              "      <td>0</td>\n",
              "      <td>0</td>\n",
              "      <td>1</td>\n",
              "      <td>0</td>\n",
              "      <td>0</td>\n",
              "      <td>0</td>\n",
              "      <td>1</td>\n",
              "      <td>0</td>\n",
              "      <td>0</td>\n",
              "      <td>0</td>\n",
              "      <td>-130.752790</td>\n",
              "    </tr>\n",
              "  </tbody>\n",
              "</table>\n",
              "</div>"
            ],
            "text/plain": [
              "   v1  v2  v3  v4  v5  v6  v7  v8  v9  v10  group           y\n",
              "0   1   1   1   1   1   1   1   1   1    0      0  453.521369\n",
              "1   1   1   1   1   1   1   1   1   1    1      0  151.919191\n",
              "2   1   1   0   1   0   1   1   0   1    0      0 -141.666991\n",
              "3   1   0   1   1   1   1   0   0   0    1      0 -227.245474\n",
              "4   1   0   0   1   0   0   0   1   0    0      0 -130.752790"
            ]
          },
          "metadata": {
            "tags": []
          },
          "execution_count": 4
        }
      ]
    },
    {
      "cell_type": "markdown",
      "metadata": {
        "id": "1rX8YKAq0vfJ",
        "colab_type": "text"
      },
      "source": [
        "### (10 points) 1. Predict Group Using Different Sets of IVs \n",
        "\n",
        "Predict the `group` variable from `v1-v5` and then from `v6-v10` using k Nearest Neighbor algorithm and all of the data (i.e., don't do train test split) and the default hyperparameters. **IGNORE  `target` variable for now.** \n",
        "\n",
        "`accuracy_v1_5`\n",
        "\n",
        "`accuracy_v6_10`"
      ]
    },
    {
      "cell_type": "code",
      "metadata": {
        "id": "fnxLFzEuiEax",
        "colab_type": "code",
        "colab": {}
      },
      "source": [
        "from sklearn.datasets import make_classification\n",
        "from sklearn.neighbors import KNeighborsClassifier\n",
        "from sklearn.model_selection import train_test_split\n",
        "from sklearn.metrics import roc_curve\n",
        "from sklearn.metrics import roc_auc_score\n",
        "from sklearn.model_selection import train_test_split\n",
        "from matplotlib import pyplot\n",
        "from numpy import array\n",
        "from sklearn.metrics import accuracy_score\n",
        "from sklearn import metrics"
      ],
      "execution_count": 0,
      "outputs": []
    },
    {
      "cell_type": "code",
      "metadata": {
        "id": "vT47UNo3icCM",
        "colab_type": "code",
        "colab": {}
      },
      "source": [
        "data = pd.DataFrame(data)"
      ],
      "execution_count": 0,
      "outputs": []
    },
    {
      "cell_type": "code",
      "metadata": {
        "id": "gYoCbMK4j_g7",
        "colab_type": "code",
        "colab": {}
      },
      "source": [
        "group = data.iloc[:,10]"
      ],
      "execution_count": 0,
      "outputs": []
    },
    {
      "cell_type": "code",
      "metadata": {
        "id": "EiZteCUWi89E",
        "colab_type": "code",
        "colab": {}
      },
      "source": [
        "v1_5 = data.iloc[:,:5]"
      ],
      "execution_count": 0,
      "outputs": []
    },
    {
      "cell_type": "code",
      "metadata": {
        "id": "4ggOrm5Klz_Y",
        "colab_type": "code",
        "colab": {}
      },
      "source": [
        "v6_10 = data.iloc[:,5:10]"
      ],
      "execution_count": 0,
      "outputs": []
    },
    {
      "cell_type": "code",
      "metadata": {
        "id": "RM2YgR6V1wC2",
        "colab_type": "code",
        "colab": {}
      },
      "source": [
        "classifier = KNeighborsClassifier()\n",
        "classifier.fit(v1_5,group)\n",
        "group1_5 = classifier.predict(v1_5)"
      ],
      "execution_count": 0,
      "outputs": []
    },
    {
      "cell_type": "code",
      "metadata": {
        "id": "J0ERd3c1luZH",
        "colab_type": "code",
        "colab": {}
      },
      "source": [
        "classifier = KNeighborsClassifier()\n",
        "classifier.fit(v1_5,group)\n",
        "group1_5 = classifier.predict(v1_5)"
      ],
      "execution_count": 0,
      "outputs": []
    },
    {
      "cell_type": "code",
      "metadata": {
        "id": "q7lbgmc-l8in",
        "colab_type": "code",
        "colab": {}
      },
      "source": [
        "classifier = KNeighborsClassifier()\n",
        "classifier.fit(v6_10,group)\n",
        "group6_10 = classifier.predict(v6_10)"
      ],
      "execution_count": 0,
      "outputs": []
    },
    {
      "cell_type": "code",
      "metadata": {
        "id": "8tRVUsE-go9j",
        "colab_type": "code",
        "colab": {}
      },
      "source": [
        "accuracy_v1_5 = metrics.accuracy_score(group,group1_5)"
      ],
      "execution_count": 0,
      "outputs": []
    },
    {
      "cell_type": "code",
      "metadata": {
        "id": "dhja_qBGgrBG",
        "colab_type": "code",
        "colab": {}
      },
      "source": [
        "accuracy_v6_10 = metrics.accuracy_score(group,group6_10)\n"
      ],
      "execution_count": 0,
      "outputs": []
    },
    {
      "cell_type": "markdown",
      "metadata": {
        "id": "plPZBhRq-DND",
        "colab_type": "text"
      },
      "source": [
        "### (10 points) 2. Null model\n",
        "\n",
        "What would the accuracy of the null/naive model be?  Set it `accuracy_null`.\n",
        "\n",
        "How would you interpret the model for `accuracy_v1_5`, `accuracy_v6_10`, vs the null model. \n"
      ]
    },
    {
      "cell_type": "code",
      "metadata": {
        "id": "GVxdxFNq8dFN",
        "colab_type": "code",
        "colab": {}
      },
      "source": [
        "#Enter this to 1 decimal place. (i.e., not string)\n",
        "accuracy_null= 1.1  #included as example.\n",
        "\n",
        "accuracy_null"
      ],
      "execution_count": 0,
      "outputs": []
    },
    {
      "cell_type": "code",
      "metadata": {
        "id": "d_03eMsF-iNm",
        "colab_type": "code",
        "colab": {}
      },
      "source": [
        "q1 = \"\"\" \n",
        "Answer here. \n",
        "\"\"\""
      ],
      "execution_count": 0,
      "outputs": []
    },
    {
      "cell_type": "markdown",
      "metadata": {
        "id": "zBeAGSgcAVGc",
        "colab_type": "text"
      },
      "source": [
        "### (10 points) 3. Perform linear regression using SciKit Learn.  \n",
        "\n",
        "Perform two regression analyses.  \n",
        "\n",
        "For `analysis1` select the independent variables `v1-v10` (all v variables) and `group` and regress on the dependent variable `target`.  Calculate the r2  for the linear regression and assign the r2 to the `r2_analysis1` variable.\n",
        "\n",
        "For `analysis2` filter to only include rows where `group` is equal to 1. Select the independent variables `v1-v10` (all v variables) regress on the dependent variable `target`.  Calculate the r2  for the linear regression and assign the r2 to the `r2_analysis2` variable.\n",
        "\n",
        "Print `r2_analysis1` and  `r2_analysis2` to make sure they are set.\n",
        "\n",
        "\n"
      ]
    },
    {
      "cell_type": "code",
      "metadata": {
        "id": "7g9dlgqSnrPs",
        "colab_type": "code",
        "colab": {}
      },
      "source": [
        "inde = data.iloc[:,:11]\n",
        "de = data.iloc[:,11]"
      ],
      "execution_count": 0,
      "outputs": []
    },
    {
      "cell_type": "code",
      "metadata": {
        "id": "NgCvOFUipD54",
        "colab_type": "code",
        "colab": {}
      },
      "source": [
        "from sklearn.linear_model import LinearRegression"
      ],
      "execution_count": 0,
      "outputs": []
    },
    {
      "cell_type": "code",
      "metadata": {
        "id": "TM4thD7eoczM",
        "colab_type": "code",
        "colab": {}
      },
      "source": [
        "model = LinearRegression().fit(inde, de)"
      ],
      "execution_count": 0,
      "outputs": []
    },
    {
      "cell_type": "code",
      "metadata": {
        "id": "2qhESlamBAtt",
        "colab_type": "code",
        "colab": {}
      },
      "source": [
        "r2_analysis1 = model.score(inde,de)"
      ],
      "execution_count": 0,
      "outputs": []
    },
    {
      "cell_type": "code",
      "metadata": {
        "id": "0Akeynz4APl5",
        "colab_type": "code",
        "colab": {}
      },
      "source": [
        "\n"
      ],
      "execution_count": 0,
      "outputs": []
    },
    {
      "cell_type": "code",
      "metadata": {
        "id": "GAj0ruboDRn6",
        "colab_type": "code",
        "colab": {}
      },
      "source": [
        "#Print r2_analysis1 and r2_analysis2 to make sure they are set.\n",
        "print(r2_analysis1, r2_analysis2)"
      ],
      "execution_count": 0,
      "outputs": []
    },
    {
      "cell_type": "markdown",
      "metadata": {
        "id": "tnnT1zAFyoKl",
        "colab_type": "text"
      },
      "source": [
        "### (10 points) Train Test Split\n",
        "Using the `random_state=99` do a 50 50 train test split of only variables `v1-v10` and the `target` for y.   Your split should create the following \n",
        "\n",
        "`train_X`, `test_X`, `train_y`, `test_y`"
      ]
    },
    {
      "cell_type": "code",
      "metadata": {
        "id": "ZX628vmlsT8e",
        "colab_type": "code",
        "colab": {}
      },
      "source": [
        "X= data.iloc[:,:10]"
      ],
      "execution_count": 0,
      "outputs": []
    },
    {
      "cell_type": "code",
      "metadata": {
        "id": "ZSyAbhkTseNK",
        "colab_type": "code",
        "colab": {}
      },
      "source": [
        "y =data.iloc[:,11]"
      ],
      "execution_count": 0,
      "outputs": []
    },
    {
      "cell_type": "code",
      "metadata": {
        "id": "XpIWFGohx2wq",
        "colab_type": "code",
        "colab": {}
      },
      "source": [
        "train_X, test_X, train_y,test_y = train_test_split(X,y,train_size = 0.5, random_state = 99)"
      ],
      "execution_count": 0,
      "outputs": []
    },
    {
      "cell_type": "markdown",
      "metadata": {
        "id": "QHtc9iadNgVF",
        "colab_type": "text"
      },
      "source": [
        "### (5. points) Describe why the testing or validation set is important for assessment of a machine learning model. "
      ]
    },
    {
      "cell_type": "code",
      "metadata": {
        "id": "BJoQVFlhNdAl",
        "colab_type": "code",
        "colab": {}
      },
      "source": [
        "q5 = \"\"\" \n",
        "Because it can help avoid model errors like overfitting. For example, when the \n",
        "model built on the training data is too complex, it might fit training data well, \n",
        "but not good enough when you test this model on your testing set, which means this \n",
        "model is not good for your all data. That's why testing data is important.\n",
        "\"\"\""
      ],
      "execution_count": 0,
      "outputs": []
    },
    {
      "cell_type": "code",
      "metadata": {
        "id": "MeQK0zX-8BDH",
        "colab_type": "code",
        "colab": {}
      },
      "source": [
        ""
      ],
      "execution_count": 0,
      "outputs": []
    },
    {
      "cell_type": "markdown",
      "metadata": {
        "id": "PxhmXmqi8Bk9",
        "colab_type": "text"
      },
      "source": [
        "### You must commit your final notebook to github by 5:50 PM.  Any commits after that time will not be accepted. \n",
        "\n",
        "Click [this link](https://classroom.github.com/a/LAzmhlFi) to generate the repository for submission. \n",
        "\n"
      ]
    }
  ]
}